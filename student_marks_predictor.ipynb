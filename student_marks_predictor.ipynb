{
 "cells": [
  {
   "cell_type": "markdown",
   "id": "d749082a-cb81-4fe5-af41-ab2784647f22",
   "metadata": {},
   "source": [
    "# Student Grade Prediction - Improved Version"
   ]
  },
  {
   "cell_type": "code",
   "execution_count": 6,
   "id": "7d30f580-141f-4e36-95a4-fbd86b10d3da",
   "metadata": {},
   "outputs": [],
   "source": [
    "# Import required libraries \n",
    "import pandas as pd\n",
    "import numpy as np\n",
    "import matplotlib.pyplot as plt\n",
    "from sklearn.linear_model import LinearRegression\n",
    "from sklearn.model_selection import train_test_split\n",
    "from sklearn.metrics import mean_squared_error, r2_score\n",
    "import warnings\n",
    "import sys"
   ]
  },
  {
   "cell_type": "code",
   "execution_count": 7,
   "id": "c739061a-f22d-4453-bfa0-e763bb569a97",
   "metadata": {},
   "outputs": [],
   "source": [
    "# Ignore feature name warnings\n",
    "warnings.filterwarnings(\"ignore\", message=\"X does not have valid feature names\")"
   ]
  },
  {
   "cell_type": "markdown",
   "id": "c3f567de-25b1-4e5f-ba18-13c6bd0f83c6",
   "metadata": {},
   "source": [
    "## Step 1: Generate Realistic Dataset (20 samples with noise)"
   ]
  },
  {
   "cell_type": "code",
   "execution_count": 8,
   "id": "07dcb295-d9bc-4081-9cf6-11e5572e1cb2",
   "metadata": {},
   "outputs": [],
   "source": [
    "np.random.seed(42)\n",
    "hours = np.random.uniform(1, 10, 20)\n",
    "marks = 10 * hours + np.random.normal(0, 5, 20)"
   ]
  },
  {
   "cell_type": "code",
   "execution_count": 9,
   "id": "2d2c4ca3-f89f-4505-92ef-5ec1eeb001fc",
   "metadata": {},
   "outputs": [
    {
     "name": "stdout",
     "output_type": "stream",
     "text": [
      "Dataset created and saved as student_scores.csv\n"
     ]
    },
    {
     "data": {
      "text/html": [
       "<div>\n",
       "<style scoped>\n",
       "    .dataframe tbody tr th:only-of-type {\n",
       "        vertical-align: middle;\n",
       "    }\n",
       "\n",
       "    .dataframe tbody tr th {\n",
       "        vertical-align: top;\n",
       "    }\n",
       "\n",
       "    .dataframe thead th {\n",
       "        text-align: right;\n",
       "    }\n",
       "</style>\n",
       "<table border=\"1\" class=\"dataframe\">\n",
       "  <thead>\n",
       "    <tr style=\"text-align: right;\">\n",
       "      <th></th>\n",
       "      <th>Hours</th>\n",
       "      <th>Marks</th>\n",
       "    </tr>\n",
       "  </thead>\n",
       "  <tbody>\n",
       "    <tr>\n",
       "      <th>4</th>\n",
       "      <td>2.404168</td>\n",
       "      <td>31.369921</td>\n",
       "    </tr>\n",
       "    <tr>\n",
       "      <th>2</th>\n",
       "      <td>7.587945</td>\n",
       "      <td>71.339334</td>\n",
       "    </tr>\n",
       "    <tr>\n",
       "      <th>10</th>\n",
       "      <td>1.185260</td>\n",
       "      <td>6.097637</td>\n",
       "    </tr>\n",
       "    <tr>\n",
       "      <th>0</th>\n",
       "      <td>4.370861</td>\n",
       "      <td>38.644455</td>\n",
       "    </tr>\n",
       "    <tr>\n",
       "      <th>8</th>\n",
       "      <td>6.410035</td>\n",
       "      <td>61.378437</td>\n",
       "    </tr>\n",
       "    <tr>\n",
       "      <th>7</th>\n",
       "      <td>8.795585</td>\n",
       "      <td>80.832112</td>\n",
       "    </tr>\n",
       "    <tr>\n",
       "      <th>6</th>\n",
       "      <td>1.522753</td>\n",
       "      <td>15.565166</td>\n",
       "    </tr>\n",
       "    <tr>\n",
       "      <th>15</th>\n",
       "      <td>2.650641</td>\n",
       "      <td>35.767797</td>\n",
       "    </tr>\n",
       "    <tr>\n",
       "      <th>16</th>\n",
       "      <td>3.738180</td>\n",
       "      <td>37.314316</td>\n",
       "    </tr>\n",
       "    <tr>\n",
       "      <th>14</th>\n",
       "      <td>2.636425</td>\n",
       "      <td>23.355714</td>\n",
       "    </tr>\n",
       "    <tr>\n",
       "      <th>13</th>\n",
       "      <td>2.911052</td>\n",
       "      <td>27.652051</td>\n",
       "    </tr>\n",
       "    <tr>\n",
       "      <th>11</th>\n",
       "      <td>9.729189</td>\n",
       "      <td>99.170377</td>\n",
       "    </tr>\n",
       "    <tr>\n",
       "      <th>17</th>\n",
       "      <td>5.722808</td>\n",
       "      <td>51.939524</td>\n",
       "    </tr>\n",
       "    <tr>\n",
       "      <th>19</th>\n",
       "      <td>3.621062</td>\n",
       "      <td>30.106404</td>\n",
       "    </tr>\n",
       "    <tr>\n",
       "      <th>12</th>\n",
       "      <td>8.491984</td>\n",
       "      <td>81.916644</td>\n",
       "    </tr>\n",
       "  </tbody>\n",
       "</table>\n",
       "</div>"
      ],
      "text/plain": [
       "       Hours      Marks\n",
       "4   2.404168  31.369921\n",
       "2   7.587945  71.339334\n",
       "10  1.185260   6.097637\n",
       "0   4.370861  38.644455\n",
       "8   6.410035  61.378437\n",
       "7   8.795585  80.832112\n",
       "6   1.522753  15.565166\n",
       "15  2.650641  35.767797\n",
       "16  3.738180  37.314316\n",
       "14  2.636425  23.355714\n",
       "13  2.911052  27.652051\n",
       "11  9.729189  99.170377\n",
       "17  5.722808  51.939524\n",
       "19  3.621062  30.106404\n",
       "12  8.491984  81.916644"
      ]
     },
     "execution_count": 9,
     "metadata": {},
     "output_type": "execute_result"
    }
   ],
   "source": [
    "df = pd.DataFrame({'Hours': hours, 'Marks': marks})\n",
    "df.to_csv('student_scores.csv', index=False)\n",
    "print(\"Dataset created and saved as student_scores.csv\")\n",
    "df.sample(15)"
   ]
  },
  {
   "cell_type": "markdown",
   "id": "519da093-40b2-4e2f-b7f7-0326580cd6ad",
   "metadata": {},
   "source": [
    "## Step 2: Prepare Data"
   ]
  },
  {
   "cell_type": "code",
   "execution_count": 10,
   "id": "80a96884-0f3b-47e5-a2e5-1efcf517344e",
   "metadata": {},
   "outputs": [],
   "source": [
    "X = df[['Hours']]  \n",
    "y = df['Marks'] "
   ]
  },
  {
   "cell_type": "code",
   "execution_count": 11,
   "id": "311f3207-5091-4f1d-86e6-135c430b45cc",
   "metadata": {},
   "outputs": [],
   "source": [
    "# Split into train/test\n",
    "X_train, X_test, y_train, y_test = train_test_split(\n",
    "    X, y, test_size=0.2, random_state=42\n",
    ")"
   ]
  },
  {
   "cell_type": "markdown",
   "id": "7109d5df-8441-460f-9301-674a61371535",
   "metadata": {},
   "source": [
    "## Step 3: Train Model"
   ]
  },
  {
   "cell_type": "code",
   "execution_count": 12,
   "id": "d6bc2967-5ee2-4884-a164-003f8bdd64f9",
   "metadata": {},
   "outputs": [
    {
     "name": "stdout",
     "output_type": "stream",
     "text": [
      "Model trained successfully!\n"
     ]
    }
   ],
   "source": [
    "model = LinearRegression()\n",
    "model.fit(X_train, y_train)\n",
    "print(\"Model trained successfully!\")"
   ]
  },
  {
   "cell_type": "markdown",
   "id": "9682d621-8b7c-464d-b69e-3fbe5cae47b8",
   "metadata": {},
   "source": [
    "## # Step 4: Model Evaluation "
   ]
  },
  {
   "cell_type": "code",
   "execution_count": 13,
   "id": "ed06a7f9-9ac5-46a3-a9c7-d526a7a4d60b",
   "metadata": {},
   "outputs": [
    {
     "name": "stdout",
     "output_type": "stream",
     "text": [
      "Train MSE: 14.97\n",
      "Test MSE: 37.91\n",
      "Model R² Score: 0.97\n"
     ]
    }
   ],
   "source": [
    "y_train_pred = model.predict(X_train)\n",
    "y_test_pred = model.predict(X_test)\n",
    "\n",
    "train_mse = mean_squared_error(y_train, y_train_pred)\n",
    "test_mse = mean_squared_error(y_test, y_test_pred)\n",
    "r2 = r2_score(y, model.predict(X))\n",
    "\n",
    "print(f\"Train MSE: {train_mse:.2f}\")\n",
    "print(f\"Test MSE: {test_mse:.2f}\")\n",
    "print(f\"Model R² Score: {r2:.2f}\")"
   ]
  },
  {
   "cell_type": "markdown",
   "id": "af19d4d7-925a-4a29-a707-aa69da2231f8",
   "metadata": {},
   "source": [
    "## Step 5: Take User Input with Error Handling"
   ]
  },
  {
   "cell_type": "code",
   "execution_count": 14,
   "id": "ec915540-b889-43d1-b097-97ba4608f778",
   "metadata": {},
   "outputs": [
    {
     "name": "stdin",
     "output_type": "stream",
     "text": [
      "Enter study hours:  9\n"
     ]
    },
    {
     "name": "stdout",
     "output_type": "stream",
     "text": [
      "Predicted Marks: 87.27\n"
     ]
    }
   ],
   "source": [
    "try:\n",
    "    hours_input = float(input(\"Enter study hours: \"))\n",
    "except ValueError:\n",
    "    print(\"❌ Please enter a valid numeric value for hours!\")\n",
    "    sys.exit()\n",
    "\n",
    "predicted_marks = model.predict(pd.DataFrame({'Hours': [hours_input]}))\n",
    "print(f\"Predicted Marks: {predicted_marks[0]:.2f}\")"
   ]
  },
  {
   "cell_type": "markdown",
   "id": "57d6c430-268b-4dbd-9a96-22ef006077c5",
   "metadata": {},
   "source": [
    "## Step 6: Plot Regression Graph"
   ]
  },
  {
   "cell_type": "code",
   "execution_count": 15,
   "id": "c9fd36f1-af0c-4675-8e45-c12892c1f454",
   "metadata": {},
   "outputs": [
    {
     "data": {
      "image/png": "[encoded data removed]",
      "text/plain": [
       "<Figure size 640x480 with 1 Axes>"
      ]
     },
     "metadata": {},
     "output_type": "display_data"
    }
   ],
   "source": [
    "plt.scatter(X, y, color='blue', label=\"Actual Data\")\n",
    "plt.plot(X, model.predict(X), color='red', label=\"Regression Line\")\n",
    "plt.scatter(hours_input, predicted_marks, color='green', s=100, label=\"My Prediction\")\n",
    "plt.xlabel(\"Hours Studied\")\n",
    "plt.ylabel(\"Marks Obtained\")\n",
    "plt.title(\"Student Grades Prediction (Improved)\")\n",
    "plt.legend()\n",
    "plt.show()"
   ]
  },
  {
   "cell_type": "code",
   "execution_count": null,
   "id": "d7d1024d-fe9e-470d-a194-88570c9afbe0",
   "metadata": {},
   "outputs": [],
   "source": []
  }
 ],
 "metadata": {
  "kernelspec": {
   "display_name": "Python 3 (ipykernel)",
   "language": "python",
   "name": "python3"
  },
  "language_info": {
   "codemirror_mode": {
    "name": "ipython",
    "version": 3
   },
   "file_extension": ".py",
   "mimetype": "text/x-python",
   "name": "python",
   "nbconvert_exporter": "python",
   "pygments_lexer": "ipython3",
   "version": "3.13.5"
  }
 },
 "nbformat": 4,
 "nbformat_minor": 5
}
